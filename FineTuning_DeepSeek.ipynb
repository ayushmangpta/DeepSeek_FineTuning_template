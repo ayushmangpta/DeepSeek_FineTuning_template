{
 "cells": [
  {
   "cell_type": "markdown",
   "id": "title-section",
   "metadata": {},
   "source": [
    "# 🚀 DeepSeek Model Fine-tuning\n",
    "\n",
    "This notebook provides a complete pipeline for fine-tuning DeepSeek language models on custom datasets. It includes:\n",
    "\n",
    "- ✨ Automated environment setup\n",
    "- 🔧 Model configuration with LoRA\n",
    "- 📊 Data preparation utilities\n",
    "- 🎯 Training pipeline\n",
    "- 💾 Model saving and export\n",
    "\n",
    "---"
   ]
  },
  {
   "cell_type": "markdown",
   "id": "setup-section",
   "metadata": {},
   "source": [
    "## 🛠️ Environment Setup\n",
    "\n",
    "Run these cells in the terminal to set up your environment. Requirements:\n",
    "- Python 3.8+\n",
    "- CUDA toolkit (11.8 recommended) https://developer.nvidia.com/cuda-11-8-0-download-archive\n",
    "\n",
    "The following cells will install all necessary dependencies. Make sure to set up enviroment variabes for CUDA."
   ]
  },
  {
   "cell_type": "code",
   "execution_count": null,
   "id": "pytorch-install",
   "metadata": {},
   "outputs": [],
   "source": [
    "# Install PyTorch with CUDA support(replace xx.x with your cuda version)\n",
    "!conda install pytorch torchvision torchaudio pytorch-cuda=xx.x -c pytorch -c nvidia -y"
   ]
  },
  {
   "cell_type": "code",
   "execution_count": null,
   "id": "dependencies-install",
   "metadata": {},
   "outputs": [],
   "source": [
    "# Install required packages\n",
    "!pip install transformers datasets peft bitsandbytes pandas --quiet"
   ]
  },
  {
   "cell_type": "markdown",
   "id": "imports-section",
   "metadata": {},
   "source": [
    "## 📚 Import Libraries\n",
    "\n",
    "Import all required libraries and set up basic configurations."
   ]
  },
  {
   "cell_type": "code",
   "execution_count": null,
   "id": "imports",
   "metadata": {},
   "outputs": [],
   "source": [
    "import os\n",
    "import torch\n",
    "from transformers import (\n",
    "    AutoTokenizer,\n",
    "    AutoModelForCausalLM,\n",
    "    TrainingArguments,\n",
    "    Trainer,\n",
    "    DataCollatorForLanguageModeling\n",
    ")\n",
    "from datasets import load_dataset\n",
    "import bitsandbytes as bnb\n",
    "from peft import LoraConfig, get_peft_model, prepare_model_for_kbit_training\n",
    "\n",
    "# Enable eager execution for better debugging\n",
    "torch.backends.cuda.matmul.allow_tf32 = True"
   ]
  },
  {
   "cell_type": "markdown",
   "id": "gpu-check-section",
   "metadata": {},
   "source": [
    "## 🖥️ Hardware Check\n",
    "\n",
    "Verify GPU availability and display system information."
   ]
  },
  {
   "cell_type": "code",
   "execution_count": null,
   "id": "gpu-check",
   "metadata": {},
   "outputs": [],
   "source": [
    "device = torch.device('cuda' if torch.cuda.is_available() else 'cpu')\n",
    "print(f\"🔍 Using device: {device}\")\n",
    "\n",
    "if torch.cuda.is_available():\n",
    "    print(f\"📊 GPU Model: {torch.cuda.get_device_name(0)}\")\n",
    "    print(f\"💾 Available GPU memory: {torch.cuda.get_device_properties(0).total_memory / 1e9:.2f} GB\")"
   ]
  },
  {
   "cell_type": "markdown",
   "id": "model-setup-section",
   "metadata": {},
   "source": [
    "## 🤖 Model and Tokenizer Setup\n",
    "\n",
    "Initialize the DeepSeek model and tokenizer with optimized settings."
   ]
  },
  {
   "cell_type": "code",
   "execution_count": null,
   "id": "model-setup",
   "metadata": {},
   "outputs": [],
   "source": [
    "# Model Configuration\n",
    "MODEL_NAME = \"unsloth/DeepSeek-R1-Distill-Qwen-1.5B\" #or any other model depending upon your requirements.\n",
    "MAX_SEQ_LENGTH = 1024\n",
    "\n",
    "def setup_tokenizer(model_name):\n",
    "    \"\"\"Initialize and configure the tokenizer\"\"\"\n",
    "    tokenizer = AutoTokenizer.from_pretrained(\n",
    "        model_name,\n",
    "        trust_remote_code=True\n",
    "    )\n",
    "    tokenizer.pad_token = tokenizer.pad_token or tokenizer.eos_token\n",
    "    return tokenizer\n",
    "\n",
    "def setup_model(model_name):\n",
    "    \"\"\"Load and configure the model with optimized settings\"\"\"\n",
    "    return AutoModelForCausalLM.from_pretrained(\n",
    "        model_name,\n",
    "        device_map=\"auto\",\n",
    "        load_in_4bit=True,\n",
    "        bnb_4bit_compute_dtype=torch.float16\n",
    "    )\n",
    "    #Or 8 bit depending on your hardware\n",
    "    \"\"\"The `load_in_4bit` and `load_in_8bit` arguments are deprecated, \n",
    "    incase they don't work you can use BitsAndBytesConfig to load\n",
    "    the model in quanized mode.\"\"\"\n",
    "\n",
    "print(\"📥 Loading model and tokenizer...\")\n",
    "tokenizer = setup_tokenizer(MODEL_NAME)\n",
    "model = setup_model(MODEL_NAME)\n",
    "#model = prepare_model_for_kbit_training(model, use_gradient_checkpointing=True) #enable if gpu has low vram although this will increase the training time\n",
    "\n",
    "print(\"✅ Model and tokenizer loaded successfully!\")"
   ]
  },
  {
   "cell_type": "markdown",
   "id": "lora-section",
   "metadata": {},
   "source": [
    "## 🎯 LoRA Configuration\n",
    "\n",
    "Set up Low-Rank Adaptation (LoRA) for efficient fine-tuning."
   ]
  },
  {
   "cell_type": "code",
   "execution_count": null,
   "id": "lora-setup",
   "metadata": {},
   "outputs": [],
   "source": [
    "def setup_lora_config():\n",
    "    \"\"\"Configure LoRA parameters for optimal training\"\"\"\n",
    "    return LoraConfig(\n",
    "        r=16,\n",
    "        lora_alpha=32,\n",
    "        target_modules=[\"q_proj\", \"k_proj\", \"v_proj\", \"o_proj\"],\n",
    "        lora_dropout=0.1,\n",
    "        bias=\"none\",\n",
    "        task_type=\"CAUSAL_LM\"\n",
    "    )\n",
    "\n",
    "print(\"🔧 Applying LoRA configuration...\")\n",
    "model = get_peft_model(model, setup_lora_config())\n",
    "print(\"\\n📊 Trainable parameters summary:\")\n",
    "model.print_trainable_parameters()"
   ]
  },
  {
   "cell_type": "markdown",
   "id": "data-prep-section",
   "metadata": {},
   "source": [
    "## 📝 Data Preparation\n",
    "\n",
    "Prepare and process your dataset for training."
   ]
  },
  {
   "cell_type": "code",
   "execution_count": null,
   "id": "data-prep",
   "metadata": {},
   "outputs": [],
   "source": [
    "def format_example(example):\n",
    "    \"\"\"Format individual examples for training\"\"\"\n",
    "    return {\n",
    "        \"text\": f\"{example['text_query'].strip()}\\n{example['text_answer'].strip()}{tokenizer.eos_token}\"\n",
    "        #change text_query and text_answer to the actual coloumn names of your data\n",
    "    }\n",
    "\n",
    "def prepare_dataset(data_path):\n",
    "    \"\"\"Load and prepare the dataset\"\"\"\n",
    "    dataset = load_dataset(\"csv\", data_files={\"train\": data_path})[\"train\"]\n",
    "    return dataset.map(format_example)\n",
    "\n",
    "def tokenize_function(examples):\n",
    "    \"\"\"Tokenize examples with proper padding\"\"\"\n",
    "    return tokenizer(\n",
    "        examples[\"text\"],\n",
    "        truncation=True,\n",
    "        max_length=MAX_SEQ_LENGTH,\n",
    "        padding=\"max_length\"\n",
    "    )\n",
    "\n",
    "# Set your csv dataset path here \n",
    "DATA_FILE = 'path/to/your/dataset.csv'\n",
    "\n",
    "print(\"📚 Preparing dataset...\")\n",
    "dataset = prepare_dataset(DATA_FILE)\n",
    "tokenized_dataset = dataset.map(tokenize_function, batched=True)\n",
    "tokenized_dataset.set_format(type=\"torch\", columns=[\"input_ids\", \"attention_mask\"])\n",
    "print(f\"✅ Dataset prepared with {len(tokenized_dataset)} examples\")"
   ]
  },
  {
   "cell_type": "markdown",
   "id": "training-config-section",
   "metadata": {},
   "source": [
    "## ⚙️ Training Configuration\n",
    "\n",
    "Configure training parameters and initialize the trainer."
   ]
  },
  {
   "cell_type": "code",
   "execution_count": null,
   "id": "training-setup",
   "metadata": {},
   "outputs": [],
   "source": [
    "def setup_training_args(output_dir=\"./model_output\"):\n",
    "    \"\"\"Configure training arguments\"\"\"\n",
    "    return TrainingArguments(\n",
    "        output_dir=output_dir,\n",
    "        overwrite_output_dir=True,\n",
    "        per_device_train_batch_size=1,\n",
    "        gradient_accumulation_steps=8,\n",
    "        num_train_epochs=3,\n",
    "        learning_rate=2e-5,\n",
    "        logging_steps=10,\n",
    "        save_steps=100,\n",
    "        fp16=True,\n",
    "        report_to=\"none\"\n",
    "        #uncomment the below piece of code if you pass an eval dataset\n",
    "        #,load_best_model_at_end=True,\n",
    "        #evaluation_strategy=\"steps\",\n",
    "        #eval_steps=100\n",
    "    )\n",
    "\n",
    "print(\"⚙️ Setting up training configuration...\")\n",
    "training_args = setup_training_args()\n",
    "data_collator = DataCollatorForLanguageModeling(tokenizer, mlm=False)\n",
    "'''pick the optimiser according to your requirements although it is optional'''\n",
    "#optim = bnb.optim.AdamW8bit(model.parameters(), lr=training_args.learning_rate)\n",
    "\n",
    "trainer = Trainer(\n",
    "    model=model,\n",
    "    args=training_args,\n",
    "    train_dataset=tokenized_dataset,\n",
    "    data_collator=data_collator,\n",
    "    #optimizers=(optim, None)\n",
    ")\n",
    "print(\"✅ Training configuration complete!\")"
   ]
  },
  {
   "cell_type": "markdown",
   "id": "training-section",
   "metadata": {},
   "source": [
    "## 🚀 Training and Model Saving\n",
    "\n",
    "Execute training and save the fine-tuned model."
   ]
  },
  {
   "cell_type": "code",
   "execution_count": null,
   "id": "training",
   "metadata": {},
   "outputs": [],
   "source": [
    "def save_model(model, tokenizer, output_dir='fine_tuned_model'):\n",
    "    \"\"\"Save the fine-tuned model and tokenizer\"\"\"\n",
    "    os.makedirs(output_dir, exist_ok=True)\n",
    "    model.save_pretrained(output_dir)\n",
    "    tokenizer.save_pretrained(output_dir)\n",
    "    print(f\"💾 Model and tokenizer saved to {output_dir}\")\n",
    "\n",
    "print(\"🚀 Starting training...\")\n",
    "trainer.train()\n",
    "print(\"✨ Training complete!\")\n",
    "\n",
    "save_model(model, tokenizer)"
   ]
  },
  {
   "cell_type": "markdown",
   "id": "notes-section",
   "metadata": {},
   "source": [
    "## 📝 Usage Notes and Troubleshooting\n",
    "\n",
    "### Parameter Adjustments\n",
    "- Adjust `MAX_SEQ_LENGTH` based on your GPU memory\n",
    "- Modify `format_example()` to match your dataset structure\n",
    "- Fine-tune training parameters in `setup_training_args()`\n",
    "\n",
    "### Common Issues\n",
    "\n",
    "#### CUDA Out of Memory 🚫\n",
    "- Reduce batch size\n",
    "- Decrease sequence length\n",
    "- Increase gradient accumulation steps\n",
    "\n",
    "#### Slow Training ⏳\n",
    "- Increase batch size (if memory allows)\n",
    "- Adjust learning rate\n",
    "- Consider using a smaller model variant\n",
    "\n",
    "### Best Practices 🌟\n",
    "- Monitor GPU memory usage\n",
    "- Start with small datasets for testing\n",
    "- Use gradient accumulation for larger effective batch sizes\n",
    "- Save checkpoints regularly\n",
    "\n",
    "---\n",
    "\n",
    "💡 For additional help or issues, please refer to the DeepSeek documentation or create an issue on the GitHub repository."
   ]
  },
  {
   "cell_type": "code",
   "execution_count": null,
   "id": "dffdabfb-3be0-4046-a389-461bd4250e34",
   "metadata": {},
   "outputs": [],
   "source": []
  }
 ],
 "metadata": {
  "kernelspec": {
   "display_name": "Python (pytorch)",
   "language": "python",
   "name": "pytorch"
  },
  "language_info": {
   "codemirror_mode": {
    "name": "ipython",
    "version": 3
   },
   "file_extension": ".py",
   "mimetype": "text/x-python",
   "name": "python",
   "nbconvert_exporter": "python",
   "pygments_lexer": "ipython3",
   "version": "3.10.16"
  }
 },
 "nbformat": 4,
 "nbformat_minor": 5
}
